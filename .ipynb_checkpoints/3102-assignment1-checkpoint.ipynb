{
 "cells": [
  {
   "cell_type": "markdown",
   "id": "5e6ad16b",
   "metadata": {},
   "source": [
    "Install HuggingSpace transformers package"
   ]
  },
  {
   "cell_type": "code",
   "execution_count": 202,
   "id": "01bec31a",
   "metadata": {},
   "outputs": [
    {
     "name": "stdout",
     "output_type": "stream",
     "text": [
      "Requirement already satisfied: transformers in c:\\users\\rahee\\appdata\\local\\programs\\python\\python310\\lib\\site-packages (4.33.2)\n",
      "Requirement already satisfied: packaging>=20.0 in c:\\users\\rahee\\appdata\\local\\programs\\python\\python310\\lib\\site-packages (from transformers) (21.3)\n",
      "Requirement already satisfied: filelock in c:\\users\\rahee\\appdata\\local\\programs\\python\\python310\\lib\\site-packages (from transformers) (3.7.1)\n",
      "Requirement already satisfied: pyyaml>=5.1 in c:\\users\\rahee\\appdata\\local\\programs\\python\\python310\\lib\\site-packages (from transformers) (6.0.1)\n",
      "Requirement already satisfied: huggingface-hub<1.0,>=0.15.1 in c:\\users\\rahee\\appdata\\local\\programs\\python\\python310\\lib\\site-packages (from transformers) (0.17.1)\n",
      "Requirement already satisfied: numpy>=1.17 in c:\\users\\rahee\\appdata\\local\\programs\\python\\python310\\lib\\site-packages (from transformers) (1.23.1)\n",
      "Requirement already satisfied: tokenizers!=0.11.3,<0.14,>=0.11.1 in c:\\users\\rahee\\appdata\\local\\programs\\python\\python310\\lib\\site-packages (from transformers) (0.13.3)\n",
      "Requirement already satisfied: regex!=2019.12.17 in c:\\users\\rahee\\appdata\\local\\programs\\python\\python310\\lib\\site-packages (from transformers) (2023.8.8)\n",
      "Requirement already satisfied: safetensors>=0.3.1 in c:\\users\\rahee\\appdata\\local\\programs\\python\\python310\\lib\\site-packages (from transformers) (0.3.3)\n",
      "Requirement already satisfied: tqdm>=4.27 in c:\\users\\rahee\\appdata\\local\\programs\\python\\python310\\lib\\site-packages (from transformers) (4.64.0)\n",
      "Requirement already satisfied: requests in c:\\users\\rahee\\appdata\\local\\programs\\python\\python310\\lib\\site-packages (from transformers) (2.28.1)\n",
      "Requirement already satisfied: fsspec in c:\\users\\rahee\\appdata\\local\\programs\\python\\python310\\lib\\site-packages (from huggingface-hub<1.0,>=0.15.1->transformers) (2023.9.1)\n",
      "Requirement already satisfied: typing-extensions>=3.7.4.3 in c:\\users\\rahee\\appdata\\local\\programs\\python\\python310\\lib\\site-packages (from huggingface-hub<1.0,>=0.15.1->transformers) (4.7.1)\n",
      "Requirement already satisfied: pyparsing!=3.0.5,>=2.0.2 in c:\\users\\rahee\\appdata\\local\\programs\\python\\python310\\lib\\site-packages (from packaging>=20.0->transformers) (3.0.9)\n",
      "Requirement already satisfied: colorama in c:\\users\\rahee\\appdata\\local\\programs\\python\\python310\\lib\\site-packages (from tqdm>=4.27->transformers) (0.4.5)\n",
      "Requirement already satisfied: idna<4,>=2.5 in c:\\users\\rahee\\appdata\\local\\programs\\python\\python310\\lib\\site-packages (from requests->transformers) (3.4)\n",
      "Requirement already satisfied: urllib3<1.27,>=1.21.1 in c:\\users\\rahee\\appdata\\local\\programs\\python\\python310\\lib\\site-packages (from requests->transformers) (1.26.12)\n",
      "Requirement already satisfied: certifi>=2017.4.17 in c:\\users\\rahee\\appdata\\local\\programs\\python\\python310\\lib\\site-packages (from requests->transformers) (2022.9.24)\n",
      "Requirement already satisfied: charset-normalizer<3,>=2 in c:\\users\\rahee\\appdata\\local\\programs\\python\\python310\\lib\\site-packages (from requests->transformers) (2.1.1)\n"
     ]
    },
    {
     "name": "stderr",
     "output_type": "stream",
     "text": [
      "WARNING: Ignoring invalid distribution -orch (c:\\users\\rahee\\appdata\\local\\programs\\python\\python310\\lib\\site-packages)\n",
      "WARNING: Ignoring invalid distribution -illow (c:\\users\\rahee\\appdata\\local\\programs\\python\\python310\\lib\\site-packages)\n",
      "WARNING: Ignoring invalid distribution -orch (c:\\users\\rahee\\appdata\\local\\programs\\python\\python310\\lib\\site-packages)\n",
      "WARNING: Ignoring invalid distribution -illow (c:\\users\\rahee\\appdata\\local\\programs\\python\\python310\\lib\\site-packages)\n",
      "WARNING: Ignoring invalid distribution -orch (c:\\users\\rahee\\appdata\\local\\programs\\python\\python310\\lib\\site-packages)\n",
      "WARNING: Ignoring invalid distribution -illow (c:\\users\\rahee\\appdata\\local\\programs\\python\\python310\\lib\\site-packages)\n",
      "WARNING: Ignoring invalid distribution -orch (c:\\users\\rahee\\appdata\\local\\programs\\python\\python310\\lib\\site-packages)\n",
      "WARNING: Ignoring invalid distribution -illow (c:\\users\\rahee\\appdata\\local\\programs\\python\\python310\\lib\\site-packages)\n",
      "WARNING: Ignoring invalid distribution -orch (c:\\users\\rahee\\appdata\\local\\programs\\python\\python310\\lib\\site-packages)\n",
      "WARNING: Ignoring invalid distribution -illow (c:\\users\\rahee\\appdata\\local\\programs\\python\\python310\\lib\\site-packages)\n",
      "WARNING: Ignoring invalid distribution -orch (c:\\users\\rahee\\appdata\\local\\programs\\python\\python310\\lib\\site-packages)\n",
      "WARNING: Ignoring invalid distribution -illow (c:\\users\\rahee\\appdata\\local\\programs\\python\\python310\\lib\\site-packages)\n",
      "WARNING: You are using pip version 22.0.4; however, version 23.2.1 is available.\n",
      "You should consider upgrading via the 'C:\\Users\\rahee\\AppData\\Local\\Programs\\Python\\Python310\\python.exe -m pip install --upgrade pip' command.\n"
     ]
    },
    {
     "name": "stdout",
     "output_type": "stream",
     "text": [
      "Requirement already satisfied: SentencePiece in c:\\users\\rahee\\appdata\\local\\programs\\python\\python310\\lib\\site-packages (0.1.99)\n"
     ]
    },
    {
     "name": "stderr",
     "output_type": "stream",
     "text": [
      "WARNING: Ignoring invalid distribution -orch (c:\\users\\rahee\\appdata\\local\\programs\\python\\python310\\lib\\site-packages)\n",
      "WARNING: Ignoring invalid distribution -illow (c:\\users\\rahee\\appdata\\local\\programs\\python\\python310\\lib\\site-packages)\n",
      "WARNING: Ignoring invalid distribution -orch (c:\\users\\rahee\\appdata\\local\\programs\\python\\python310\\lib\\site-packages)\n",
      "WARNING: Ignoring invalid distribution -illow (c:\\users\\rahee\\appdata\\local\\programs\\python\\python310\\lib\\site-packages)\n",
      "WARNING: Ignoring invalid distribution -orch (c:\\users\\rahee\\appdata\\local\\programs\\python\\python310\\lib\\site-packages)\n",
      "WARNING: Ignoring invalid distribution -illow (c:\\users\\rahee\\appdata\\local\\programs\\python\\python310\\lib\\site-packages)\n",
      "WARNING: Ignoring invalid distribution -orch (c:\\users\\rahee\\appdata\\local\\programs\\python\\python310\\lib\\site-packages)\n",
      "WARNING: Ignoring invalid distribution -illow (c:\\users\\rahee\\appdata\\local\\programs\\python\\python310\\lib\\site-packages)\n",
      "WARNING: Ignoring invalid distribution -orch (c:\\users\\rahee\\appdata\\local\\programs\\python\\python310\\lib\\site-packages)\n",
      "WARNING: Ignoring invalid distribution -illow (c:\\users\\rahee\\appdata\\local\\programs\\python\\python310\\lib\\site-packages)\n",
      "WARNING: Ignoring invalid distribution -orch (c:\\users\\rahee\\appdata\\local\\programs\\python\\python310\\lib\\site-packages)\n",
      "WARNING: Ignoring invalid distribution -illow (c:\\users\\rahee\\appdata\\local\\programs\\python\\python310\\lib\\site-packages)\n",
      "WARNING: You are using pip version 22.0.4; however, version 23.2.1 is available.\n",
      "You should consider upgrading via the 'C:\\Users\\rahee\\AppData\\Local\\Programs\\Python\\Python310\\python.exe -m pip install --upgrade pip' command.\n"
     ]
    }
   ],
   "source": [
    "!pip install transformers\n",
    "!pip install SentencePiece\n",
    "from transformers import AutoTokenizer\n",
    "from transformers import OpenAIGPTTokenizer\n",
    "from transformers import XLMRobertaTokenizer"
   ]
  },
  {
   "cell_type": "markdown",
   "id": "22ee926a",
   "metadata": {},
   "source": [
    "Specify the tokenizer models to be used"
   ]
  },
  {
   "cell_type": "code",
   "execution_count": 204,
   "id": "9c69031f",
   "metadata": {},
   "outputs": [
    {
     "name": "stderr",
     "output_type": "stream",
     "text": [
      "ftfy or spacy is not installed using BERT BasicTokenizer instead of SpaCy & ftfy.\n"
     ]
    },
    {
     "ename": "ImportError",
     "evalue": "\nXLMRobertaTokenizer requires the SentencePiece library but it was not found in your environment. Checkout the instructions on the\ninstallation page of its repo: https://github.com/google/sentencepiece#installation and follow the ones\nthat match your environment. Please note that you may need to restart your runtime after installation.\n",
     "output_type": "error",
     "traceback": [
      "\u001b[1;31m---------------------------------------------------------------------------\u001b[0m",
      "\u001b[1;31mImportError\u001b[0m                               Traceback (most recent call last)",
      "Input \u001b[1;32mIn [204]\u001b[0m, in \u001b[0;36m<cell line: 3>\u001b[1;34m()\u001b[0m\n\u001b[0;32m      1\u001b[0m tokenizer_bert \u001b[38;5;241m=\u001b[39m AutoTokenizer\u001b[38;5;241m.\u001b[39mfrom_pretrained(\u001b[38;5;124m\"\u001b[39m\u001b[38;5;124mbert-base-uncased\u001b[39m\u001b[38;5;124m\"\u001b[39m) \u001b[38;5;66;03m# BERT is using wordpiece tokenization method\u001b[39;00m\n\u001b[0;32m      2\u001b[0m tokenizer_openai \u001b[38;5;241m=\u001b[39m OpenAIGPTTokenizer\u001b[38;5;241m.\u001b[39mfrom_pretrained(\u001b[38;5;124m\"\u001b[39m\u001b[38;5;124mopenai-gpt\u001b[39m\u001b[38;5;124m\"\u001b[39m) \u001b[38;5;66;03m# openai-gpt is using BPE tokenization.\u001b[39;00m\n\u001b[1;32m----> 3\u001b[0m tokenizer_xlmroberta \u001b[38;5;241m=\u001b[39m \u001b[43mXLMRobertaTokenizer\u001b[49m\u001b[38;5;241;43m.\u001b[39;49m\u001b[43mfrom_pretrained\u001b[49m(\u001b[38;5;124m\"\u001b[39m\u001b[38;5;124mxlm-roberta-base\u001b[39m\u001b[38;5;124m\"\u001b[39m)\n",
      "File \u001b[1;32m~\\AppData\\Local\\Programs\\Python\\Python310\\lib\\site-packages\\transformers\\utils\\import_utils.py:1124\u001b[0m, in \u001b[0;36mDummyObject.__getattribute__\u001b[1;34m(cls, key)\u001b[0m\n\u001b[0;32m   1122\u001b[0m \u001b[38;5;28;01mif\u001b[39;00m key\u001b[38;5;241m.\u001b[39mstartswith(\u001b[38;5;124m\"\u001b[39m\u001b[38;5;124m_\u001b[39m\u001b[38;5;124m\"\u001b[39m) \u001b[38;5;129;01mand\u001b[39;00m key \u001b[38;5;241m!=\u001b[39m \u001b[38;5;124m\"\u001b[39m\u001b[38;5;124m_from_config\u001b[39m\u001b[38;5;124m\"\u001b[39m:\n\u001b[0;32m   1123\u001b[0m     \u001b[38;5;28;01mreturn\u001b[39;00m \u001b[38;5;28msuper\u001b[39m()\u001b[38;5;241m.\u001b[39m\u001b[38;5;21m__getattribute__\u001b[39m(key)\n\u001b[1;32m-> 1124\u001b[0m \u001b[43mrequires_backends\u001b[49m\u001b[43m(\u001b[49m\u001b[38;5;28;43mcls\u001b[39;49m\u001b[43m,\u001b[49m\u001b[43m \u001b[49m\u001b[38;5;28;43mcls\u001b[39;49m\u001b[38;5;241;43m.\u001b[39;49m\u001b[43m_backends\u001b[49m\u001b[43m)\u001b[49m\n",
      "File \u001b[1;32m~\\AppData\\Local\\Programs\\Python\\Python310\\lib\\site-packages\\transformers\\utils\\import_utils.py:1112\u001b[0m, in \u001b[0;36mrequires_backends\u001b[1;34m(obj, backends)\u001b[0m\n\u001b[0;32m   1110\u001b[0m failed \u001b[38;5;241m=\u001b[39m [msg\u001b[38;5;241m.\u001b[39mformat(name) \u001b[38;5;28;01mfor\u001b[39;00m available, msg \u001b[38;5;129;01min\u001b[39;00m checks \u001b[38;5;28;01mif\u001b[39;00m \u001b[38;5;129;01mnot\u001b[39;00m available()]\n\u001b[0;32m   1111\u001b[0m \u001b[38;5;28;01mif\u001b[39;00m failed:\n\u001b[1;32m-> 1112\u001b[0m     \u001b[38;5;28;01mraise\u001b[39;00m \u001b[38;5;167;01mImportError\u001b[39;00m(\u001b[38;5;124m\"\u001b[39m\u001b[38;5;124m\"\u001b[39m\u001b[38;5;241m.\u001b[39mjoin(failed))\n",
      "\u001b[1;31mImportError\u001b[0m: \nXLMRobertaTokenizer requires the SentencePiece library but it was not found in your environment. Checkout the instructions on the\ninstallation page of its repo: https://github.com/google/sentencepiece#installation and follow the ones\nthat match your environment. Please note that you may need to restart your runtime after installation.\n"
     ]
    }
   ],
   "source": [
    "tokenizer_bert = AutoTokenizer.from_pretrained(\"bert-base-uncased\") # BERT is using wordpiece tokenization method\n",
    "tokenizer_openai = OpenAIGPTTokenizer.from_pretrained(\"openai-gpt\") # openai-gpt is using BPE tokenization.\n",
    "tokenizer_xlmroberta = XLMRobertaTokenizer.from_pretrained(\"xlm-roberta-base\") # XLM-RoBERTa is using SentencePiece tokenization and supports Unicode"
   ]
  },
  {
   "cell_type": "markdown",
   "id": "183543ae",
   "metadata": {},
   "source": [
    "Specify the path to the text file and initialize empty lists to store the lines"
   ]
  },
  {
   "cell_type": "code",
   "execution_count": null,
   "id": "9dd9ac02",
   "metadata": {},
   "outputs": [],
   "source": [
    "file_path = 'prompts.txt'\n",
    "text_lines = []"
   ]
  },
  {
   "cell_type": "markdown",
   "id": "c657b2f7",
   "metadata": {},
   "source": [
    "Open the text file and read its contents line by line"
   ]
  },
  {
   "cell_type": "code",
   "execution_count": null,
   "id": "3517a819",
   "metadata": {},
   "outputs": [],
   "source": [
    "with open(file_path, 'r', encoding='utf-8') as file:\n",
    "    for line in file:\n",
    "        # Append each line (stripped of leading/trailing whitespace) to the list\n",
    "        text_lines.append(line.strip())"
   ]
  },
  {
   "cell_type": "markdown",
   "id": "f938c621",
   "metadata": {},
   "source": [
    "Tokenizing batched data with the BERT tokenization model and getting the response time with cProfile"
   ]
  },
  {
   "cell_type": "code",
   "execution_count": null,
   "id": "a5c66e28",
   "metadata": {},
   "outputs": [],
   "source": [
    "pr = cProfile.Profile()\n",
    "pr.enable()\n",
    "tokenized_sentences_bert = tokenizer_bert.batch_encode_plus(text_lines, add_special_tokens=True)\n",
    "print(tokenized_sentences_bert[\"input_ids\"])\n",
    "pr.disable()\n",
    "print(\"Printing stats for encoding batched data\")\n",
    "print(\"------------------------------------------\")\n",
    "pr.print_stats()"
   ]
  },
  {
   "cell_type": "markdown",
   "id": "10cf7ada",
   "metadata": {},
   "source": [
    "Tokenizing unbatched data with the BERT tokenization model and getting the response time with cProfile"
   ]
  },
  {
   "cell_type": "code",
   "execution_count": null,
   "id": "9588b11d",
   "metadata": {},
   "outputs": [],
   "source": [
    "pr = cProfile.Profile()\n",
    "pr.enable()\n",
    "for element in text_lines:\n",
    "    encoding_unbatched = tokenizer_bert.encode_plus(element, add_special_tokens=True, truncation=True)\n",
    "pr.disable()\n",
    "\n",
    "print(\"Printing stats for encoding unbatched data\")\n",
    "print(\"------------------------------------------\")\n",
    "pr.print_stats()"
   ]
  },
  {
   "cell_type": "markdown",
   "id": "0cdbf4d5",
   "metadata": {},
   "source": [
    "Store the tokenized IDs(Bert tokenization method) in a list"
   ]
  },
  {
   "cell_type": "code",
   "execution_count": null,
   "id": "e5bcd2d3",
   "metadata": {},
   "outputs": [],
   "source": [
    "ids_bert = list(tokenized_sentences_bert[\"input_ids\"])\n"
   ]
  },
  {
   "cell_type": "markdown",
   "id": "3e694c57",
   "metadata": {},
   "source": [
    "Detokenizing batched data with the BERT tokenization model and getting the response time with cProfile"
   ]
  },
  {
   "cell_type": "code",
   "execution_count": null,
   "id": "76474c2a",
   "metadata": {},
   "outputs": [],
   "source": [
    "pr = cProfile.Profile()\n",
    "pr.enable()\n",
    "detokenized_sentences_bert = tokenizer_bert.batch_decode(ids_bert)\n",
    "print(detokenized_sentences_bert)\n",
    "pr.disable()\n",
    "print(\"Printing stats for dencoding batched data\")\n",
    "print(\"------------------------------------------\")\n",
    "pr.print_stats()"
   ]
  },
  {
   "cell_type": "markdown",
   "id": "5b5e5b02",
   "metadata": {},
   "source": [
    "Detokenizing unbatched data with the BERT tokenization model and getting the response time with cProfile"
   ]
  },
  {
   "cell_type": "code",
   "execution_count": null,
   "id": "191d4fe5",
   "metadata": {},
   "outputs": [],
   "source": [
    "pr = cProfile.Profile()\n",
    "pr.enable()\n",
    "for element in ids_bert:\n",
    "    detokenized_sentence_bert = tokenizer_bert.decode(element, skip_special_tokens=True)\n",
    "    print(detokenized_sentence_bert)\n",
    "pr.disable()\n",
    "print(\"Printing stats for decoding unbatched data\")\n",
    "print(\"------------------------------------------\")\n",
    "pr.print_stats()"
   ]
  },
  {
   "cell_type": "markdown",
   "id": "ddb2d685",
   "metadata": {},
   "source": [
    "Tokenizing batched data with the openai-gpt tokenization model and getting the response time with cProfile"
   ]
  },
  {
   "cell_type": "code",
   "execution_count": null,
   "id": "8cf9588d",
   "metadata": {},
   "outputs": [],
   "source": [
    "pr = cProfile.Profile()\n",
    "pr.enable()\n",
    "tokenized_sentences_openai = tokenizer_openai.batch_encode_plus(text_lines, add_special_tokens=True)\n",
    "#print(tokenized_sentences_openai[\"input_ids\"])\n",
    "pr.disable()\n",
    "print(\"Printing stats for encoding batched data\")\n",
    "print(\"------------------------------------------\")\n",
    "pr.print_stats()"
   ]
  },
  {
   "cell_type": "markdown",
   "id": "4c454b36",
   "metadata": {},
   "source": [
    "Store the tokenized IDs(openai tokenization method) in a list"
   ]
  },
  {
   "cell_type": "code",
   "execution_count": null,
   "id": "2e963f8c",
   "metadata": {},
   "outputs": [],
   "source": [
    "ids_openai = list(tokenized_sentences_openai[\"input_ids\"])"
   ]
  },
  {
   "cell_type": "markdown",
   "id": "8b65f177",
   "metadata": {},
   "source": [
    "Tokenizing unbatched data with the openai-gpt tokenization model and getting the response time with cProfile"
   ]
  },
  {
   "cell_type": "code",
   "execution_count": null,
   "id": "6d65a4d1",
   "metadata": {},
   "outputs": [],
   "source": [
    "pr = cProfile.Profile()\n",
    "pr.enable()\n",
    "for element in text_lines:\n",
    "    encoding_unbatched = tokenizer_openai.encode_plus(element, add_special_tokens=True, truncation=True)\n",
    "    #print(encoding_unbatched)\n",
    "pr.disable()\n",
    "\n",
    "print(\"Printing stats for encoding unbatched data\")\n",
    "print(\"------------------------------------------\")\n",
    "pr.print_stats()"
   ]
  },
  {
   "cell_type": "markdown",
   "id": "f14cb729",
   "metadata": {},
   "source": [
    "Detokenizing batched data with the openai tokenization model and getting the response time with cProfile"
   ]
  },
  {
   "cell_type": "code",
   "execution_count": null,
   "id": "04e349ec",
   "metadata": {},
   "outputs": [],
   "source": [
    "pr = cProfile.Profile()\n",
    "pr.enable()\n",
    "detokenized_sentences_openai = tokenizer_openai.batch_decode(ids_openai)\n",
    "print(detokenized_sentences)\n",
    "pr.disable()\n",
    "print(\"Printing stats for dencoding batched data\")\n",
    "print(\"------------------------------------------\")\n",
    "pr.print_stats()"
   ]
  },
  {
   "cell_type": "markdown",
   "id": "f39857d7",
   "metadata": {},
   "source": [
    "Detokenizing unbatched data with the openai tokenization model and getting the response time with cProfile"
   ]
  },
  {
   "cell_type": "code",
   "execution_count": null,
   "id": "5fa645a4",
   "metadata": {},
   "outputs": [],
   "source": [
    "pr = cProfile.Profile()\n",
    "pr.enable()\n",
    "for element in ids_openai:\n",
    "    detokenized_sentence_openai = tokenizer_openai.decode(element, skip_special_tokens=True)\n",
    "    print(detokenized_sentence_openai)\n",
    "pr.disable()\n",
    "print(\"Printing stats for decoding unbatched data\")\n",
    "print(\"------------------------------------------\")\n",
    "pr.print_stats()"
   ]
  },
  {
   "cell_type": "markdown",
   "id": "ac8948fe",
   "metadata": {},
   "source": [
    "Tokenizing batched data with the XLM-RoBERTa tokenization model and getting the response time with cProfile"
   ]
  },
  {
   "cell_type": "code",
   "execution_count": null,
   "id": "441a4139",
   "metadata": {},
   "outputs": [],
   "source": [
    "pr = cProfile.Profile()\n",
    "pr.enable()\n",
    "tokenized_sentences_xlmroberta = tokenizer_xlmroberta.batch_encode_plus(text_lines, add_special_tokens=True)\n",
    "print(tokenized_sentences_xlmroberta[\"input_ids\"])\n",
    "pr.disable()\n",
    "print(\"Printing stats for encoding batched data\")\n",
    "print(\"------------------------------------------\")\n",
    "pr.print_stats()"
   ]
  }
 ],
 "metadata": {
  "kernelspec": {
   "display_name": "Python 3 (ipykernel)",
   "language": "python",
   "name": "python3"
  },
  "language_info": {
   "codemirror_mode": {
    "name": "ipython",
    "version": 3
   },
   "file_extension": ".py",
   "mimetype": "text/x-python",
   "name": "python",
   "nbconvert_exporter": "python",
   "pygments_lexer": "ipython3",
   "version": "3.10.5"
  }
 },
 "nbformat": 4,
 "nbformat_minor": 5
}
