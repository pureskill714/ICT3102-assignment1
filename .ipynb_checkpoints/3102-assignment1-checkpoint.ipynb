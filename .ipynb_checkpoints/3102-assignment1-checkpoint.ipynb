{
 "cells": [
  {
   "cell_type": "markdown",
   "id": "97003639",
   "metadata": {},
   "source": [
    "# Abstract"
   ]
  },
  {
   "cell_type": "markdown",
   "id": "72f3ba8a",
   "metadata": {},
   "source": [
    "This notebook presents a comparative analysis of response times for two HuggingSpace libraries: Transformers and spaCy\n",
    "\n",
    "<b>Transformers<b> :\n",
    "Three prominent tokenization models, BERT, OpenAI GPT-3, and XLM-RoBERTa are used to assess their encoding and decoding response times when confronted with both batched and unbatched data, while utilizing two distinct datasets, prompt.txt and glassdoor-reviews.txt\n",
    "\n",
    "The BERT is using wordpiece tokenization method. \n",
    "The openAI GPT-3 model is using BPE tokenization method\n",
    "The XLM-RoBERTa is using SentencePiece tokenization method\n",
    "\n",
    "The first dataset ,prompts.txt is of medium size, comprises sentences of relatively uniform length. In contrast, the second dataset, larger in scale, presents a diverse landscape of text entries.\n",
    "    \n",
    "    \n",
    "<b>SpaCy<b>\n",
    "    \n",
    "    \n",
    "We will perform analysis on the Transformers library first followed by the spaCy library"
   ]
  },
  {
   "cell_type": "markdown",
   "id": "752657e3",
   "metadata": {},
   "source": [
    "# Transformers"
   ]
  },
  {
   "cell_type": "markdown",
   "id": "677628ba",
   "metadata": {},
   "source": [
    "Install HuggingSpace transformers package and retrieve necessary datasets"
   ]
  },
  {
   "cell_type": "code",
   "execution_count": null,
   "id": "cb7fb5fc",
   "metadata": {},
   "outputs": [],
   "source": [
    "!git clone https://github.com/pureskill714/ICT3102-assignment1.git\n",
    "!pip install transformers\n",
    "!pip install SentencePiece\n",
    "import cProfile\n",
    "import time\n",
    "from transformers import AutoTokenizer\n",
    "from transformers import OpenAIGPTTokenizer\n",
    "from transformers import XLMRobertaTokenizer"
   ]
  }
 ],
 "metadata": {
  "kernelspec": {
   "display_name": "Python 3 (ipykernel)",
   "language": "python",
   "name": "python3"
  },
  "language_info": {
   "codemirror_mode": {
    "name": "ipython",
    "version": 3
   },
   "file_extension": ".py",
   "mimetype": "text/x-python",
   "name": "python",
   "nbconvert_exporter": "python",
   "pygments_lexer": "ipython3",
   "version": "3.10.5"
  }
 },
 "nbformat": 4,
 "nbformat_minor": 5
}
