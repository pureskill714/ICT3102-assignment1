{
 "cells": [
  {
   "cell_type": "markdown",
   "id": "6fa9838c",
   "metadata": {},
   "source": [
    "<h1>Install necessary libraries<h1>"
   ]
  },
  {
   "cell_type": "code",
   "execution_count": 1,
   "id": "0b0366f2",
   "metadata": {},
   "outputs": [
    {
     "name": "stdout",
     "output_type": "stream",
     "text": [
      "Requirement already satisfied: transformers in c:\\users\\rahee\\appdata\\local\\programs\\python\\python310\\lib\\site-packages (4.33.2)\n",
      "Requirement already satisfied: huggingface-hub<1.0,>=0.15.1 in c:\\users\\rahee\\appdata\\local\\programs\\python\\python310\\lib\\site-packages (from transformers) (0.17.1)\n",
      "Requirement already satisfied: numpy>=1.17 in c:\\users\\rahee\\appdata\\local\\programs\\python\\python310\\lib\\site-packages (from transformers) (1.23.1)\n",
      "Requirement already satisfied: packaging>=20.0 in c:\\users\\rahee\\appdata\\local\\programs\\python\\python310\\lib\\site-packages (from transformers) (21.3)\n",
      "Requirement already satisfied: tokenizers!=0.11.3,<0.14,>=0.11.1 in c:\\users\\rahee\\appdata\\local\\programs\\python\\python310\\lib\\site-packages (from transformers) (0.13.3)\n",
      "Requirement already satisfied: regex!=2019.12.17 in c:\\users\\rahee\\appdata\\local\\programs\\python\\python310\\lib\\site-packages (from transformers) (2023.8.8)\n",
      "Requirement already satisfied: requests in c:\\users\\rahee\\appdata\\local\\programs\\python\\python310\\lib\\site-packages (from transformers) (2.28.1)\n",
      "Requirement already satisfied: filelock in c:\\users\\rahee\\appdata\\local\\programs\\python\\python310\\lib\\site-packages (from transformers) (3.7.1)\n",
      "Requirement already satisfied: safetensors>=0.3.1 in c:\\users\\rahee\\appdata\\local\\programs\\python\\python310\\lib\\site-packages (from transformers) (0.3.3)\n",
      "Requirement already satisfied: tqdm>=4.27 in c:\\users\\rahee\\appdata\\local\\programs\\python\\python310\\lib\\site-packages (from transformers) (4.64.0)\n",
      "Requirement already satisfied: pyyaml>=5.1 in c:\\users\\rahee\\appdata\\local\\programs\\python\\python310\\lib\\site-packages (from transformers) (6.0.1)\n",
      "Requirement already satisfied: typing-extensions>=3.7.4.3 in c:\\users\\rahee\\appdata\\local\\programs\\python\\python310\\lib\\site-packages (from huggingface-hub<1.0,>=0.15.1->transformers) (4.7.1)\n",
      "Requirement already satisfied: fsspec in c:\\users\\rahee\\appdata\\local\\programs\\python\\python310\\lib\\site-packages (from huggingface-hub<1.0,>=0.15.1->transformers) (2023.9.1)\n",
      "Requirement already satisfied: pyparsing!=3.0.5,>=2.0.2 in c:\\users\\rahee\\appdata\\local\\programs\\python\\python310\\lib\\site-packages (from packaging>=20.0->transformers) (3.0.9)\n",
      "Requirement already satisfied: colorama in c:\\users\\rahee\\appdata\\local\\programs\\python\\python310\\lib\\site-packages (from tqdm>=4.27->transformers) (0.4.5)\n",
      "Requirement already satisfied: urllib3<1.27,>=1.21.1 in c:\\users\\rahee\\appdata\\local\\programs\\python\\python310\\lib\\site-packages (from requests->transformers) (1.26.12)\n",
      "Requirement already satisfied: certifi>=2017.4.17 in c:\\users\\rahee\\appdata\\local\\programs\\python\\python310\\lib\\site-packages (from requests->transformers) (2022.9.24)\n",
      "Requirement already satisfied: charset-normalizer<3,>=2 in c:\\users\\rahee\\appdata\\local\\programs\\python\\python310\\lib\\site-packages (from requests->transformers) (2.1.1)\n",
      "Requirement already satisfied: idna<4,>=2.5 in c:\\users\\rahee\\appdata\\local\\programs\\python\\python310\\lib\\site-packages (from requests->transformers) (3.4)\n"
     ]
    },
    {
     "name": "stderr",
     "output_type": "stream",
     "text": [
      "WARNING: Ignoring invalid distribution -orch (c:\\users\\rahee\\appdata\\local\\programs\\python\\python310\\lib\\site-packages)\n",
      "WARNING: Ignoring invalid distribution -illow (c:\\users\\rahee\\appdata\\local\\programs\\python\\python310\\lib\\site-packages)\n",
      "WARNING: Ignoring invalid distribution -orch (c:\\users\\rahee\\appdata\\local\\programs\\python\\python310\\lib\\site-packages)\n",
      "WARNING: Ignoring invalid distribution -illow (c:\\users\\rahee\\appdata\\local\\programs\\python\\python310\\lib\\site-packages)\n",
      "WARNING: Ignoring invalid distribution -orch (c:\\users\\rahee\\appdata\\local\\programs\\python\\python310\\lib\\site-packages)\n",
      "WARNING: Ignoring invalid distribution -illow (c:\\users\\rahee\\appdata\\local\\programs\\python\\python310\\lib\\site-packages)\n",
      "WARNING: Ignoring invalid distribution -orch (c:\\users\\rahee\\appdata\\local\\programs\\python\\python310\\lib\\site-packages)\n",
      "WARNING: Ignoring invalid distribution -illow (c:\\users\\rahee\\appdata\\local\\programs\\python\\python310\\lib\\site-packages)\n",
      "WARNING: Ignoring invalid distribution -orch (c:\\users\\rahee\\appdata\\local\\programs\\python\\python310\\lib\\site-packages)\n",
      "WARNING: Ignoring invalid distribution -illow (c:\\users\\rahee\\appdata\\local\\programs\\python\\python310\\lib\\site-packages)\n",
      "WARNING: Ignoring invalid distribution -orch (c:\\users\\rahee\\appdata\\local\\programs\\python\\python310\\lib\\site-packages)\n",
      "WARNING: Ignoring invalid distribution -illow (c:\\users\\rahee\\appdata\\local\\programs\\python\\python310\\lib\\site-packages)\n",
      "WARNING: You are using pip version 22.0.4; however, version 23.2.1 is available.\n",
      "You should consider upgrading via the 'C:\\Users\\rahee\\AppData\\Local\\Programs\\Python\\Python310\\python.exe -m pip install --upgrade pip' command.\n"
     ]
    },
    {
     "name": "stdout",
     "output_type": "stream",
     "text": [
      "Requirement already satisfied: SentencePiece in c:\\users\\rahee\\appdata\\local\\programs\\python\\python310\\lib\\site-packages (0.1.99)\n"
     ]
    },
    {
     "name": "stderr",
     "output_type": "stream",
     "text": [
      "WARNING: Ignoring invalid distribution -orch (c:\\users\\rahee\\appdata\\local\\programs\\python\\python310\\lib\\site-packages)\n",
      "WARNING: Ignoring invalid distribution -illow (c:\\users\\rahee\\appdata\\local\\programs\\python\\python310\\lib\\site-packages)\n",
      "WARNING: Ignoring invalid distribution -orch (c:\\users\\rahee\\appdata\\local\\programs\\python\\python310\\lib\\site-packages)\n",
      "WARNING: Ignoring invalid distribution -illow (c:\\users\\rahee\\appdata\\local\\programs\\python\\python310\\lib\\site-packages)\n",
      "WARNING: Ignoring invalid distribution -orch (c:\\users\\rahee\\appdata\\local\\programs\\python\\python310\\lib\\site-packages)\n",
      "WARNING: Ignoring invalid distribution -illow (c:\\users\\rahee\\appdata\\local\\programs\\python\\python310\\lib\\site-packages)\n",
      "WARNING: Ignoring invalid distribution -orch (c:\\users\\rahee\\appdata\\local\\programs\\python\\python310\\lib\\site-packages)\n",
      "WARNING: Ignoring invalid distribution -illow (c:\\users\\rahee\\appdata\\local\\programs\\python\\python310\\lib\\site-packages)\n",
      "WARNING: Ignoring invalid distribution -orch (c:\\users\\rahee\\appdata\\local\\programs\\python\\python310\\lib\\site-packages)\n",
      "WARNING: Ignoring invalid distribution -illow (c:\\users\\rahee\\appdata\\local\\programs\\python\\python310\\lib\\site-packages)\n",
      "WARNING: Ignoring invalid distribution -orch (c:\\users\\rahee\\appdata\\local\\programs\\python\\python310\\lib\\site-packages)\n",
      "WARNING: Ignoring invalid distribution -illow (c:\\users\\rahee\\appdata\\local\\programs\\python\\python310\\lib\\site-packages)\n",
      "WARNING: You are using pip version 22.0.4; however, version 23.2.1 is available.\n",
      "You should consider upgrading via the 'C:\\Users\\rahee\\AppData\\Local\\Programs\\Python\\Python310\\python.exe -m pip install --upgrade pip' command.\n"
     ]
    }
   ],
   "source": [
    "!pip install transformers\n",
    "!pip install SentencePiece\n",
    "import cProfile\n",
    "import pandas as pd\n",
    "import matplotlib.pyplot as plt\n",
    "import time\n",
    "from transformers import AutoTokenizer\n",
    "from transformers import OpenAIGPTTokenizer\n",
    "from transformers import XLMRobertaTokenizer"
   ]
  },
  {
   "cell_type": "markdown",
   "id": "4a8c0885",
   "metadata": {},
   "source": [
    "Specify the tokenizer models to be used"
   ]
  },
  {
   "cell_type": "code",
   "execution_count": 2,
   "id": "cb856057",
   "metadata": {},
   "outputs": [
    {
     "name": "stderr",
     "output_type": "stream",
     "text": [
      "ftfy or spacy is not installed using BERT BasicTokenizer instead of SpaCy & ftfy.\n"
     ]
    }
   ],
   "source": [
    "tokenizer_bert = AutoTokenizer.from_pretrained(\"bert-base-uncased\") # BERT is using wordpiece tokenization method\n",
    "tokenizer_openai = OpenAIGPTTokenizer.from_pretrained(\"openai-gpt\") # openai-gpt is using BPE tokenization.\n",
    "tokenizer_xlmroberta = XLMRobertaTokenizer.from_pretrained(\"xlm-roberta-base\") # XLM-RoBERTa is using SentencePiece tokenization and supports Unicode"
   ]
  },
  {
   "cell_type": "markdown",
   "id": "0db839b8",
   "metadata": {},
   "source": [
    "Specify the path to the two text file and initialize empty lists to store the lines"
   ]
  },
  {
   "cell_type": "code",
   "execution_count": 3,
   "id": "3d10effb",
   "metadata": {},
   "outputs": [],
   "source": [
    "file_path = 'prompts.txt'\n",
    "prompts_lines = []\n",
    "\n",
    "file_path2 = 'glassdoor-reviews.txt'\n",
    "glassdoor_lines = []"
   ]
  },
  {
   "cell_type": "markdown",
   "id": "a931ad09",
   "metadata": {},
   "source": [
    "Open the two text file and read its contents line by line and append them to the lists"
   ]
  },
  {
   "cell_type": "code",
   "execution_count": 4,
   "id": "c0dc0826",
   "metadata": {},
   "outputs": [],
   "source": [
    "with open(file_path, 'r', encoding='utf-8') as file:\n",
    "    for line in file:\n",
    "        prompts_lines.append(line.strip())\n",
    "\n",
    "with open(file_path2, 'r', encoding='utf-8') as file:\n",
    "    for line in file:\n",
    "        glassdoor_lines.append(line.strip())"
   ]
  },
  {
   "cell_type": "markdown",
   "id": "09332639",
   "metadata": {},
   "source": [
    "<h1>Comparision of encoding batched data using prompts.txt dataset<h1>"
   ]
  },
  {
   "cell_type": "code",
   "execution_count": 36,
   "id": "94337293",
   "metadata": {},
   "outputs": [
    {
     "name": "stdout",
     "output_type": "stream",
     "text": [
      "Response time for encoding batched data with BERT tokenization model: 0.022480487823486328 seconds\n",
      "Response time for encoding batched data with openAI tokenization model: 0.1711280345916748 seconds\n",
      "Response time for encoding batched data with XLMRoberta tokenization model: 0.05151200294494629 seconds\n"
     ]
    },
    {
     "data": {
      "image/png": "[encoded data removed]",
      "text/plain": [
       "<Figure size 432x288 with 1 Axes>"
      ]
     },
     "metadata": {
      "needs_background": "light"
     },
     "output_type": "display_data"
    }
   ],
   "source": [
    "# Encoding batched data with BERT model\n",
    "start_time_bert = time.time()  \n",
    "tokenized_sentences_bert = tokenizer_bert.batch_encode_plus(prompts_lines, add_special_tokens=True)\n",
    "end_time_bert = time.time()  \n",
    "response_time_bert = end_time_bert - start_time_bert\n",
    "\n",
    "# Encoding batched data with openAI model\n",
    "start_time_openai = time.time() \n",
    "tokenized_sentences_openai = tokenizer_openai.batch_encode_plus(prompts_lines, add_special_tokens=True)\n",
    "end_time_openai = time.time()\n",
    "response_time_openai = end_time_openai - start_time_openai\n",
    "\n",
    "# Encoding batched data with XLM-RoBERTa model\n",
    "start_time_xlmroberta = time.time() \n",
    "tokenized_sentences_xlmroberta = tokenizer_xlmroberta.batch_encode_plus(prompts_lines, add_special_tokens=True)\n",
    "end_time_xlmroberta = time.time()\n",
    "response_time_xlmroberta = end_time_xlmroberta - start_time_xlmroberta\n",
    "\n",
    "\n",
    "print(f\"Response time for encoding batched data with BERT tokenization model: {response_time_bert} seconds\")\n",
    "print(f\"Response time for encoding batched data with openAI tokenization model: {response_time_openai} seconds\")\n",
    "print(f\"Response time for encoding batched data with XLMRoberta tokenization model: {response_time_xlmroberta} seconds\")\n",
    "\n",
    "models = ['BERT', 'openAI', 'XLM-RoBERTa']\n",
    "response_times = [response_time_bert, response_time_openai, response_time_xlmroberta]\n",
    "plt.bar(models, response_times)\n",
    "plt.xlabel('Tokenization Model')\n",
    "plt.ylabel('Response Time')\n",
    "plt.title('encoding batched data using prompts.txt dataset')\n",
    "plt.show()\n",
    "\n",
    "\n"
   ]
  },
  {
   "cell_type": "markdown",
   "id": "3b98c32e",
   "metadata": {},
   "source": [
    "<h1>Comparision of encoding batched data using glassdoor-reviews.txt dataset<h1>"
   ]
  },
  {
   "cell_type": "code",
   "execution_count": 37,
   "id": "fd074805",
   "metadata": {},
   "outputs": [
    {
     "name": "stdout",
     "output_type": "stream",
     "text": [
      "Response time for encoding batched data with BERT tokenization model: 0.184248685836792 seconds\n",
      "Response time for encoding batched data with openAI tokenization model: 2.318967819213867 seconds\n",
      "Response time for encoding batched data with XLMRoberta tokenization model: 0.724635124206543 seconds\n"
     ]
    },
    {
     "data": {
      "image/png": "[encoded data removed]",
      "text/plain": [
       "<Figure size 432x288 with 1 Axes>"
      ]
     },
     "metadata": {
      "needs_background": "light"
     },
     "output_type": "display_data"
    }
   ],
   "source": [
    "# Encoding batched data with BERT model\n",
    "start_time_bert = time.time()  \n",
    "tokenized_sentences_bert = tokenizer_bert.batch_encode_plus(glassdoor_lines, add_special_tokens=True)\n",
    "end_time_bert = time.time()  \n",
    "response_time_bert = end_time_bert - start_time_bert\n",
    "\n",
    "# Encoding batched data with openAI model\n",
    "start_time_openai = time.time() \n",
    "tokenized_sentences_openai = tokenizer_openai.batch_encode_plus(glassdoor_lines, add_special_tokens=True)\n",
    "end_time_openai = time.time()\n",
    "response_time_openai = end_time_openai - start_time_openai\n",
    "\n",
    "# Encoding batched data with XLM-RoBERTa model\n",
    "start_time_xlmroberta = time.time() \n",
    "tokenized_sentences_xlmroberta = tokenizer_xlmroberta.batch_encode_plus(glassdoor_lines, add_special_tokens=True)\n",
    "end_time_xlmroberta = time.time()\n",
    "response_time_xlmroberta = end_time_xlmroberta - start_time_xlmroberta\n",
    "\n",
    "\n",
    "print(f\"Response time for encoding batched data with BERT tokenization model: {response_time_bert} seconds\")\n",
    "print(f\"Response time for encoding batched data with openAI tokenization model: {response_time_openai} seconds\")\n",
    "print(f\"Response time for encoding batched data with XLMRoberta tokenization model: {response_time_xlmroberta} seconds\")\n",
    "\n",
    "models = ['BERT', 'openAI', 'XLM-RoBERTa']\n",
    "response_times = [response_time_bert, response_time_openai, response_time_xlmroberta]\n",
    "plt.bar(models, response_times)\n",
    "plt.xlabel('Tokenization Model')\n",
    "plt.ylabel('Response Time')\n",
    "plt.title('encoding batched data using glassdoor-reviews.txt dataset')\n",
    "plt.show()\n",
    "\n",
    "\n"
   ]
  },
  {
   "cell_type": "markdown",
   "id": "41299e55",
   "metadata": {},
   "source": [
    "<h1>Comparision of decoding batched data using prompts.txt dataset<h1>"
   ]
  },
  {
   "cell_type": "code",
   "execution_count": 53,
   "id": "9035e07f",
   "metadata": {},
   "outputs": [
    {
     "name": "stdout",
     "output_type": "stream",
     "text": [
      "Response time for detokenizing batched data with BERT tokenization model: 0.08262300491333008 seconds\n",
      "Response time for detokenizing batched data with openAI tokenization model: 0.06957626342773438 seconds\n",
      "Response time for detokenizing unbatched data with XLMRoberta tokenization model: 0.08000063896179199 seconds\n"
     ]
    },
    {
     "data": {
      "image/png": "[encoded data removed]",
      "text/plain": [
       "<Figure size 432x288 with 1 Axes>"
      ]
     },
     "metadata": {
      "needs_background": "light"
     },
     "output_type": "display_data"
    }
   ],
   "source": [
    "tokenized_sentences_bert = tokenizer_bert.batch_encode_plus(prompts_lines, add_special_tokens=True)\n",
    "tokenized_sentences_openai = tokenizer_openai.batch_encode_plus(prompts_lines, add_special_tokens=True)\n",
    "tokenized_sentences_xlmroberta = tokenizer_xlmroberta.batch_encode_plus(prompts_lines, add_special_tokens=True)\n",
    "\n",
    "ids_bert = list(tokenized_sentences_bert[\"input_ids\"]) # Store the tokenized IDs(Bert tokenization method) in a list\n",
    "ids_openai = list(tokenized_sentences_openai[\"input_ids\"]) # Store the tokenized IDs(openai tokenization method) in a list\n",
    "ids_xlmroberta = list(tokenized_sentences_xlmroberta[\"input_ids\"]) # Store the tokenized IDs(XLM-RoBERTa tokenization method) in a list\n",
    "\n",
    "\n",
    "# Decoding batched data with BERT model\n",
    "start_time_bert = time.time() \n",
    "detokenized_sentences_bert = tokenizer_bert.batch_decode(ids_bert)\n",
    "end_time_bert = time.time()\n",
    "#print(detokenized_sentences_bert)\n",
    "response_time_bert = end_time_bert - start_time_bert\n",
    "\n",
    "# Decoding batched data with openAI model\n",
    "start_time_openai = time.time()\n",
    "detokenized_sentences_openai = tokenizer_openai.batch_decode(ids_openai)\n",
    "end_time_openai = time.time()\n",
    "#print(detokenized_sentences_openai)\n",
    "response_time_openai = end_time_openai - start_time_openai\n",
    "\n",
    "# Decoding batched data with XLM-RoBERTa model\n",
    "start_time_xlmroberta = time.time()\n",
    "detokenized_sentences_xlmroberta = tokenizer_xlmroberta.batch_decode(ids_xlmroberta)\n",
    "end_time_xlmroberta = time.time()\n",
    "response_time_xlmroberta = end_time_xlmroberta - start_time_xlmroberta\n",
    "\n",
    "print(f\"Response time for detokenizing batched data with BERT tokenization model: {response_time_bert} seconds\")\n",
    "print(f\"Response time for detokenizing batched data with openAI tokenization model: {response_time_openai} seconds\")\n",
    "print(f\"Response time for detokenizing unbatched data with XLMRoberta tokenization model: {response_time_xlmroberta} seconds\")\n",
    "\n",
    "models = ['BERT', 'openAI', 'XLM-RoBERTa']\n",
    "response_times = [response_time_bert, response_time_openai, response_time_xlmroberta]\n",
    "plt.bar(models, response_times)\n",
    "plt.xlabel('Tokenization Model')\n",
    "plt.ylabel('Response Time')\n",
    "plt.title('decoding batched data using prompts.txt dataset')\n",
    "plt.show()"
   ]
  },
  {
   "cell_type": "code",
   "execution_count": null,
   "id": "5c083b9a",
   "metadata": {},
   "outputs": [],
   "source": [
    "<h1>Comparision of decoding batched data using glassdoor-reviews.txt dataset<h1>"
   ]
  },
  {
   "cell_type": "code",
   "execution_count": 43,
   "id": "6a9bea8c",
   "metadata": {},
   "outputs": [
    {
     "name": "stdout",
     "output_type": "stream",
     "text": [
      "Response time for detokenizing batched data with BERT tokenization model: 1.1680707931518555 seconds\n",
      "Response time for detokenizing batched data with openAI tokenization model: 1.0022623538970947 seconds\n",
      "Response time for detokenizing unbatched data with openAI tokenization model: 1.217076063156128 seconds\n"
     ]
    },
    {
     "data": {
      "image/png": "[encoded data removed]",
      "text/plain": [
       "<Figure size 432x288 with 1 Axes>"
      ]
     },
     "metadata": {
      "needs_background": "light"
     },
     "output_type": "display_data"
    }
   ],
   "source": [
    "tokenized_sentences_bert = tokenizer_bert.batch_encode_plus(glassdoor_lines, add_special_tokens=True)\n",
    "tokenized_sentences_openai = tokenizer_openai.batch_encode_plus(glassdoor_lines, add_special_tokens=True)\n",
    "tokenized_sentences_xlmroberta = tokenizer_xlmroberta.batch_encode_plus(glassdoor_lines, add_special_tokens=True)\n",
    "\n",
    "ids_bert = list(tokenized_sentences_bert[\"input_ids\"]) # Store the tokenized IDs(Bert tokenization method) in a list\n",
    "ids_openai = list(tokenized_sentences_openai[\"input_ids\"]) # Store the tokenized IDs(openai tokenization method) in a list\n",
    "ids_xlmroberta = list(tokenized_sentences_xlmroberta[\"input_ids\"]) # Store the tokenized IDs(XLM-RoBERTa tokenization method) in a list\n",
    "\n",
    "\n",
    "# Encoding batched data with BERT model\n",
    "start_time_bert = time.time() \n",
    "detokenized_sentences_bert = tokenizer_bert.batch_decode(ids_bert)\n",
    "end_time_bert = time.time()\n",
    "#print(detokenized_sentences_bert)\n",
    "response_time_bert = end_time_bert - start_time_bert\n",
    "\n",
    "# Encoding batched data with openAI model\n",
    "start_time_openai = time.time()\n",
    "detokenized_sentences_openai = tokenizer_openai.batch_decode(ids_openai)\n",
    "end_time_openai = time.time()\n",
    "#print(detokenized_sentences_openai)\n",
    "response_time_openai = end_time_openai - start_time_openai\n",
    "\n",
    "# Encoding batched data with XLM-RoBERTa model\n",
    "start_time_xlmroberta = time.time()\n",
    "detokenized_sentences_xlmroberta = tokenizer_xlmroberta.batch_decode(ids_xlmroberta)\n",
    "end_time_xlmroberta = time.time()\n",
    "response_time_xlmroberta = end_time_xlmroberta - start_time_xlmroberta\n",
    "\n",
    "print(f\"Response time for detokenizing batched data with BERT tokenization model: {response_time_bert} seconds\")\n",
    "print(f\"Response time for detokenizing batched data with openAI tokenization model: {response_time_openai} seconds\")\n",
    "print(f\"Response time for detokenizing unbatched data with openAI tokenization model: {response_time_xlmroberta} seconds\")\n",
    "\n",
    "models = ['BERT', 'openAI', 'XLM-RoBERTa']\n",
    "response_times = [response_time_bert, response_time_openai, response_time_xlmroberta]\n",
    "plt.bar(models, response_times)\n",
    "plt.xlabel('Tokenization Model')\n",
    "plt.ylabel('Response Time')\n",
    "plt.title('decoding batched data using glassdoor-reviews.txt dataset')\n",
    "plt.show()"
   ]
  },
  {
   "cell_type": "code",
   "execution_count": null,
   "id": "6518433a",
   "metadata": {},
   "outputs": [],
   "source": [
    "<h1>Comparision of encoding unbatched data using prompts.txt dataset<h1>"
   ]
  },
  {
   "cell_type": "code",
   "execution_count": 47,
   "id": "1d57811c",
   "metadata": {},
   "outputs": [
    {
     "name": "stdout",
     "output_type": "stream",
     "text": [
      "Response time for encoding unbatched data with BERT tokenization model: 0.041016578674316406 seconds\n",
      "Response time for encoding unbatched data with openAI tokenization model: 0.177093505859375 seconds\n",
      "Response time for encoding unbatched data with XLMRoberta tokenization model: 0.060001373291015625 seconds\n"
     ]
    },
    {
     "data": {
      "image/png": "[encoded data removed]",
      "text/plain": [
       "<Figure size 432x288 with 1 Axes>"
      ]
     },
     "metadata": {
      "needs_background": "light"
     },
     "output_type": "display_data"
    }
   ],
   "source": [
    "# Encoding unbatched data with BERT model\n",
    "start_time_bert = time.time()  \n",
    "for element in prompts_lines:\n",
    "    encoding_unbatched_bert = tokenizer_bert.encode_plus(element, add_special_tokens=True, truncation=True)\n",
    "end_time_bert = time.time()  \n",
    "response_time_bert = end_time_bert - start_time_bert\n",
    "\n",
    "# Encoding unbatched data with openAI model\n",
    "start_time_openai = time.time() \n",
    "for element in prompts_lines:\n",
    "    encoding_unbatched_openai = tokenizer_openai.encode_plus(element, add_special_tokens=True, truncation=True)\n",
    "end_time_openai = time.time()\n",
    "response_time_openai = end_time_openai - start_time_openai\n",
    "\n",
    "# Encoding unbatched data with XLM-RoBERTa model\n",
    "start_time_xlmroberta = time.time() \n",
    "for element in prompts_lines:\n",
    "    encoding_unbatched = tokenizer_xlmroberta.encode_plus(element, add_special_tokens=True, truncation=True)\n",
    "end_time_xlmroberta = time.time()\n",
    "response_time_xlmroberta = end_time_xlmroberta - start_time_xlmroberta\n",
    "\n",
    "\n",
    "print(f\"Response time for encoding unbatched data with BERT tokenization model: {response_time_bert} seconds\")\n",
    "print(f\"Response time for encoding unbatched data with openAI tokenization model: {response_time_openai} seconds\")\n",
    "print(f\"Response time for encoding unbatched data with XLMRoberta tokenization model: {response_time_xlmroberta} seconds\")\n",
    "\n",
    "models = ['BERT', 'openAI', 'XLM-RoBERTa']\n",
    "response_times = [response_time_bert, response_time_openai, response_time_xlmroberta]\n",
    "plt.bar(models, response_times)\n",
    "plt.xlabel('Tokenization Model')\n",
    "plt.ylabel('Response Time')\n",
    "plt.title('encoding unbatched data using prompts.txt dataset')\n",
    "plt.show()"
   ]
  },
  {
   "cell_type": "markdown",
   "id": "8989143d",
   "metadata": {},
   "source": [
    "<h1>Comparision of encoding unbatched data using glassdoor-reviews.txt dataset<h1>"
   ]
  },
  {
   "cell_type": "code",
   "execution_count": 48,
   "id": "4c2c0d27",
   "metadata": {},
   "outputs": [
    {
     "name": "stdout",
     "output_type": "stream",
     "text": [
      "Response time for encoding unbatched data with BERT tokenization model: 0.6638789176940918 seconds\n",
      "Response time for encoding unbatched data with openAI tokenization model: 2.433009624481201 seconds\n",
      "Response time for encoding unbatched data with XLMRoberta tokenization model: 0.8303654193878174 seconds\n"
     ]
    },
    {
     "data": {
      "image/png": "[encoded data removed]",
      "text/plain": [
       "<Figure size 432x288 with 1 Axes>"
      ]
     },
     "metadata": {
      "needs_background": "light"
     },
     "output_type": "display_data"
    }
   ],
   "source": [
    "# Encoding unbatched data with BERT model\n",
    "start_time_bert = time.time()  \n",
    "for element in glassdoor_lines:\n",
    "    encoding_unbatched_bert = tokenizer_bert.encode_plus(element, add_special_tokens=True, truncation=True)\n",
    "end_time_bert = time.time()  \n",
    "response_time_bert = end_time_bert - start_time_bert\n",
    "\n",
    "# Encoding unbatched data with openAI model\n",
    "start_time_openai = time.time() \n",
    "for element in glassdoor_lines:\n",
    "    encoding_unbatched_openai = tokenizer_openai.encode_plus(element, add_special_tokens=True, truncation=True)\n",
    "end_time_openai = time.time()\n",
    "response_time_openai = end_time_openai - start_time_openai\n",
    "\n",
    "# Encoding unbatched data with XLM-RoBERTa model\n",
    "start_time_xlmroberta = time.time() \n",
    "for element in glassdoor_lines:\n",
    "    encoding_unbatched = tokenizer_xlmroberta.encode_plus(element, add_special_tokens=True, truncation=True)\n",
    "end_time_xlmroberta = time.time()\n",
    "response_time_xlmroberta = end_time_xlmroberta - start_time_xlmroberta\n",
    "\n",
    "\n",
    "print(f\"Response time for encoding unbatched data with BERT tokenization model: {response_time_bert} seconds\")\n",
    "print(f\"Response time for encoding unbatched data with openAI tokenization model: {response_time_openai} seconds\")\n",
    "print(f\"Response time for encoding unbatched data with XLMRoberta tokenization model: {response_time_xlmroberta} seconds\")\n",
    "\n",
    "models = ['BERT', 'openAI', 'XLM-RoBERTa']\n",
    "response_times = [response_time_bert, response_time_openai, response_time_xlmroberta]\n",
    "plt.bar(models, response_times)\n",
    "plt.xlabel('Tokenization Model')\n",
    "plt.ylabel('Response Time')\n",
    "plt.title('encoding unbatched data using glassdoor-reviews.txt dataset')\n",
    "plt.show()"
   ]
  },
  {
   "cell_type": "code",
   "execution_count": null,
   "id": "5be7dfa9",
   "metadata": {},
   "outputs": [],
   "source": [
    "<h1>Comparision of decoding unbatched data using prompts.txt dataset<h1>"
   ]
  },
  {
   "cell_type": "code",
   "execution_count": 52,
   "id": "5bded9b2",
   "metadata": {},
   "outputs": [
    {
     "name": "stdout",
     "output_type": "stream",
     "text": [
      "Response time for detokenizing unbatched data with BERT tokenization model: 0.08150506019592285 seconds\n",
      "Response time for detokenizing unbatched data with openAI tokenization model: 0.17455291748046875 seconds\n",
      "Response time for detokenizing unbatched data with XLMRoberta tokenization model: 0.9063014984130859 seconds\n"
     ]
    },
    {
     "data": {
      "image/png": "[encoded data removed]",
      "text/plain": [
       "<Figure size 432x288 with 1 Axes>"
      ]
     },
     "metadata": {
      "needs_background": "light"
     },
     "output_type": "display_data"
    }
   ],
   "source": [
    "tokenized_sentences_bert = tokenizer_bert.batch_encode_plus(prompts_lines, add_special_tokens=True)\n",
    "tokenized_sentences_openai = tokenizer_openai.batch_encode_plus(prompts_lines, add_special_tokens=True)\n",
    "tokenized_sentences_xlmroberta = tokenizer_xlmroberta.batch_encode_plus(prompts_lines, add_special_tokens=True)\n",
    "\n",
    "ids_bert = list(tokenized_sentences_bert[\"input_ids\"]) # Store the tokenized IDs(Bert tokenization method) in a list\n",
    "ids_openai = list(tokenized_sentences_openai[\"input_ids\"]) # Store the tokenized IDs(openai tokenization method) in a list\n",
    "ids_xlmroberta = list(tokenized_sentences_xlmroberta[\"input_ids\"]) # Store the tokenized IDs(XLM-RoBERTa tokenization method) in a list\n",
    "\n",
    "start_time_bert = time.time()\n",
    "for element in ids_bert:\n",
    "    detokenized_sentence_bert = tokenizer_bert.decode(element, skip_special_tokens=True)\n",
    "    #print(detokenized_sentence_bert)\n",
    "end_time_bert = time.time()\n",
    "response_time_bert = end_time_bert - start_time_bert\n",
    "\n",
    "start_time_openai = time.time()\n",
    "for element in ids_openai:\n",
    "    detokenized_sentence_openai = tokenizer_openai.decode(element, skip_special_tokens=True)\n",
    "    #print(detokenized_sentence_openai)\n",
    "end_time_openai = time.time()\n",
    "response_time_openai = end_time_openai - start_time_openai\n",
    "\n",
    "\n",
    "start_time_xlmroberta = time.time()\n",
    "for element in ids_xlmroberta:\n",
    "    detokenized_sentences_xlmroberta = tokenizer_xlmroberta.decode(element, skip_special_tokens=True)\n",
    "    #print(detokenized_sentences_xlmroberta)\n",
    "end_time_xlmroberta = time.time()\n",
    "response_time_xlmroberta = end_time_xlmroberta - start_time_xlmroberta\n",
    "\n",
    "\n",
    "print(f\"Response time for detokenizing unbatched data with BERT tokenization model: {response_time_bert} seconds\")\n",
    "print(f\"Response time for detokenizing unbatched data with openAI tokenization model: {response_time_openai} seconds\")\n",
    "print(f\"Response time for detokenizing unbatched data with XLMRoberta tokenization model: {response_time_xlmroberta} seconds\")\n",
    "\n",
    "models = ['BERT', 'openAI', 'XLM-RoBERTa']\n",
    "response_times = [response_time_bert, response_time_openai, response_time_xlmroberta]\n",
    "plt.bar(models, response_times)\n",
    "plt.xlabel('Tokenization Model')\n",
    "plt.ylabel('Response Time')\n",
    "plt.title('decoding unbatched data using prompts.txt dataset')\n",
    "plt.show()"
   ]
  },
  {
   "cell_type": "code",
   "execution_count": null,
   "id": "12c1e670",
   "metadata": {},
   "outputs": [],
   "source": [
    "<h1>Comparision of decoding unbatched data using glassdoor.txt dataset<h1>"
   ]
  },
  {
   "cell_type": "code",
   "execution_count": 54,
   "id": "4bcbbae2",
   "metadata": {},
   "outputs": [
    {
     "name": "stdout",
     "output_type": "stream",
     "text": [
      "Response time for detokenizing unbatched data with BERT tokenization model: 1.1368136405944824 seconds\n",
      "Response time for detokenizing unbatched data with openAI tokenization model: 2.431659460067749 seconds\n",
      "Response time for detokenizing unbatched data with XLMRoberta tokenization model: 4.934390544891357 seconds\n"
     ]
    },
    {
     "data": {
      "image/png": "[encoded data removed]",
      "text/plain": [
       "<Figure size 432x288 with 1 Axes>"
      ]
     },
     "metadata": {
      "needs_background": "light"
     },
     "output_type": "display_data"
    }
   ],
   "source": [
    "tokenized_sentences_bert = tokenizer_bert.batch_encode_plus(glassdoor_lines, add_special_tokens=True)\n",
    "tokenized_sentences_openai = tokenizer_openai.batch_encode_plus(glassdoor_lines, add_special_tokens=True)\n",
    "tokenized_sentences_xlmroberta = tokenizer_xlmroberta.batch_encode_plus(glassdoor_lines, add_special_tokens=True)\n",
    "\n",
    "ids_bert = list(tokenized_sentences_bert[\"input_ids\"]) # Store the tokenized IDs(Bert tokenization method) in a list\n",
    "ids_openai = list(tokenized_sentences_openai[\"input_ids\"]) # Store the tokenized IDs(openai tokenization method) in a list\n",
    "ids_xlmroberta = list(tokenized_sentences_xlmroberta[\"input_ids\"]) # Store the tokenized IDs(XLM-RoBERTa tokenization method) in a list\n",
    "\n",
    "start_time_bert = time.time()\n",
    "for element in ids_bert:\n",
    "    detokenized_sentence_bert = tokenizer_bert.decode(element, skip_special_tokens=True)\n",
    "    #print(detokenized_sentence_bert)\n",
    "end_time_bert = time.time()\n",
    "response_time_bert = end_time_bert - start_time_bert\n",
    "\n",
    "start_time_openai = time.time()\n",
    "for element in ids_openai:\n",
    "    detokenized_sentence_openai = tokenizer_openai.decode(element, skip_special_tokens=True)\n",
    "    #print(detokenized_sentence_openai)\n",
    "end_time_openai = time.time()\n",
    "response_time_openai = end_time_openai - start_time_openai\n",
    "\n",
    "\n",
    "start_time_xlmroberta = time.time()\n",
    "for element in ids_xlmroberta:\n",
    "    detokenized_sentences_xlmroberta = tokenizer_xlmroberta.decode(element, skip_special_tokens=True)\n",
    "    #print(detokenized_sentences_xlmroberta)\n",
    "end_time_xlmroberta = time.time()\n",
    "response_time_xlmroberta = end_time_xlmroberta - start_time_xlmroberta\n",
    "\n",
    "\n",
    "print(f\"Response time for detokenizing unbatched data with BERT tokenization model: {response_time_bert} seconds\")\n",
    "print(f\"Response time for detokenizing unbatched data with openAI tokenization model: {response_time_openai} seconds\")\n",
    "print(f\"Response time for detokenizing unbatched data with XLMRoberta tokenization model: {response_time_xlmroberta} seconds\")\n",
    "\n",
    "models = ['BERT', 'openAI', 'XLM-RoBERTa']\n",
    "response_times = [response_time_bert, response_time_openai, response_time_xlmroberta]\n",
    "plt.bar(models, response_times)\n",
    "plt.xlabel('Tokenization Model')\n",
    "plt.ylabel('Response Time')\n",
    "plt.title('decoding unbatched data using glassdoor.txt dataset')\n",
    "plt.show()"
   ]
  }
 ],
 "metadata": {
  "kernelspec": {
   "display_name": "Python 3 (ipykernel)",
   "language": "python",
   "name": "python3"
  },
  "language_info": {
   "codemirror_mode": {
    "name": "ipython",
    "version": 3
   },
   "file_extension": ".py",
   "mimetype": "text/x-python",
   "name": "python",
   "nbconvert_exporter": "python",
   "pygments_lexer": "ipython3",
   "version": "3.10.5"
  }
 },
 "nbformat": 4,
 "nbformat_minor": 5
}
